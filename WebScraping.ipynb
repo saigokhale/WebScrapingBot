{
 "cells": [
  {
   "cell_type": "code",
   "execution_count": 39,
   "id": "a7901c4b",
   "metadata": {},
   "outputs": [
    {
     "name": "stdout",
     "output_type": "stream",
     "text": [
      "Requirement already satisfied: BeautifulSoup4 in e:\\python\\lib\\site-packages (4.9.3)\n",
      "Requirement already satisfied: soupsieve>1.2 in e:\\python\\lib\\site-packages (from BeautifulSoup4) (2.2.1)\n"
     ]
    }
   ],
   "source": [
    "# old\n",
    "!pip install BeautifulSoup4"
   ]
  },
  {
   "cell_type": "code",
   "execution_count": 41,
   "id": "f91b8878",
   "metadata": {},
   "outputs": [
    {
     "name": "stdout",
     "output_type": "stream",
     "text": [
      "Requirement already satisfied: lxml in e:\\python\\lib\\site-packages (4.6.3)\n"
     ]
    }
   ],
   "source": [
    "#old\n",
    "\n",
    "!pip install lxml"
   ]
  },
  {
   "cell_type": "code",
   "execution_count": 42,
   "id": "e53a76ed",
   "metadata": {},
   "outputs": [],
   "source": [
    "#old\n",
    "\n",
    "from bs4 import BeautifulSoup"
   ]
  },
  {
   "cell_type": "code",
   "execution_count": 44,
   "id": "e0a5e834",
   "metadata": {},
   "outputs": [],
   "source": [
    "#old\n",
    "import requests\n",
    "html_text=requests.get(\"https://www.buzzfeed.com/in/tvandmovies\").text\n",
    "#print(html_text)\n",
    "soup = BeautifulSoup(html_text, 'lxml')"
   ]
  },
  {
   "cell_type": "code",
   "execution_count": 45,
   "id": "ef689083",
   "metadata": {},
   "outputs": [],
   "source": [
    "listing=soup.find(\"div\",class_='js-card__content xs-col-7 md-col-8 xs-offset-5 md-offset-4 xs-px1 xs-pt1 sm-px2 sm-pt2')"
   ]
  },
  {
   "cell_type": "code",
   "execution_count": 46,
   "id": "15805740",
   "metadata": {
    "scrolled": true
   },
   "outputs": [],
   "source": [
    "#print(listing)"
   ]
  },
  {
   "cell_type": "code",
   "execution_count": 47,
   "id": "a00a8684",
   "metadata": {},
   "outputs": [],
   "source": [
    "#new gfg code\n",
    "\n",
    "# import module\n",
    "import requests\n",
    "from bs4 import BeautifulSoup\n",
    "\n",
    "HEADERS = ({'User-Agent':\n",
    "            'Mozilla/5.0 (Windows NT 10.0; Win64; x64) \\\n",
    "            AppleWebKit/537.36 (KHTML, like Gecko) \\\n",
    "            Chrome/90.0.4430.212 Safari/537.36',\n",
    "            'Accept-Language': 'en-US, en;q=0.5'})\n",
    "\n",
    "# user define function\n",
    "# Scrape the data\n",
    "def getdata(url):\n",
    "    r = requests.get(url, headers=HEADERS)\n",
    "    return r.text\n",
    "\n",
    "\n",
    "def html_code(url):\n",
    "\n",
    "    # pass the url\n",
    "    # into getdata function\n",
    "    htmldata = getdata(url)\n",
    "    soup = BeautifulSoup(htmldata, 'html.parser')\n",
    "\n",
    "    # display html code\n",
    "    return (soup)\n",
    "\n",
    "\n",
    "url = \"https://www.theguardian.com/international\"\n",
    "\n",
    "soup = html_code(url)\n",
    "# print(soup)\n"
   ]
  },
  {
   "cell_type": "code",
   "execution_count": 48,
   "id": "7cab22ef",
   "metadata": {},
   "outputs": [
    {
     "name": "stdout",
     "output_type": "stream",
     "text": [
      "\n",
      "\n",
      "Live  Russia-Ukraine war: Putin defends ‘noble’ invasion; alleged Mariupol chemical attack investigated  \n",
      "\n",
      "\n"
     ]
    }
   ],
   "source": [
    "#new but only works for text\n",
    "\n",
    "def cus_data(soup):\n",
    "    # find the Html tag\n",
    "    # with find()\n",
    "    # and convert into string\n",
    "    data_str = \"\"\n",
    "    cus_list = []\n",
    "  \n",
    "    for item in soup.find_all(\"div\", class_=\"fc-item__content\"):\n",
    "        data_str = data_str + item.get_text()\n",
    "        cus_list.append(data_str)\n",
    "        data_str = \"\"\n",
    "    return cus_list\n",
    "    \n",
    "#     for link in soup.find(\"a\", href=True):\n",
    "#         print(link['href'])\n",
    "\n",
    " \n",
    "cus_res = cus_data(soup)\n",
    "print(cus_res[0])"
   ]
  },
  {
   "cell_type": "code",
   "execution_count": 49,
   "id": "46850276",
   "metadata": {},
   "outputs": [
    {
     "ename": "AttributeError",
     "evalue": "ResultSet object has no attribute 'find_all'. You're probably treating a list of elements like a single element. Did you call find_all() when you meant to call find()?",
     "output_type": "error",
     "traceback": [
      "\u001b[1;31m---------------------------------------------------------------------------\u001b[0m",
      "\u001b[1;31mAttributeError\u001b[0m                            Traceback (most recent call last)",
      "\u001b[1;32m<ipython-input-49-a70501a52cc7>\u001b[0m in \u001b[0;36m<module>\u001b[1;34m\u001b[0m\n\u001b[0;32m      3\u001b[0m \u001b[0mx\u001b[0m \u001b[1;33m=\u001b[0m \u001b[0msoup\u001b[0m\u001b[1;33m.\u001b[0m\u001b[0mfind_all\u001b[0m\u001b[1;33m(\u001b[0m\u001b[1;34m\"div\"\u001b[0m\u001b[1;33m,\u001b[0m \u001b[0mclass_\u001b[0m\u001b[1;33m=\u001b[0m\u001b[1;34m\"fc-item__container\"\u001b[0m\u001b[1;33m)\u001b[0m\u001b[1;33m\u001b[0m\u001b[1;33m\u001b[0m\u001b[0m\n\u001b[0;32m      4\u001b[0m \u001b[1;33m\u001b[0m\u001b[0m\n\u001b[1;32m----> 5\u001b[1;33m \u001b[0my\u001b[0m\u001b[1;33m=\u001b[0m\u001b[0mx\u001b[0m\u001b[1;33m.\u001b[0m\u001b[0mfind_all\u001b[0m\u001b[1;33m(\u001b[0m\u001b[1;34m\"a\"\u001b[0m\u001b[1;33m,\u001b[0m \u001b[0mhref\u001b[0m\u001b[1;33m=\u001b[0m\u001b[1;32mTrue\u001b[0m\u001b[1;33m)\u001b[0m\u001b[1;33m[\u001b[0m\u001b[1;34m'href'\u001b[0m\u001b[1;33m]\u001b[0m\u001b[1;33m\u001b[0m\u001b[1;33m\u001b[0m\u001b[0m\n\u001b[0m\u001b[0;32m      6\u001b[0m \u001b[0mlen\u001b[0m\u001b[1;33m(\u001b[0m\u001b[0my\u001b[0m\u001b[1;33m)\u001b[0m\u001b[1;33m\u001b[0m\u001b[1;33m\u001b[0m\u001b[0m\n",
      "\u001b[1;32mE:\\Python\\lib\\site-packages\\bs4\\element.py\u001b[0m in \u001b[0;36m__getattr__\u001b[1;34m(self, key)\u001b[0m\n\u001b[0;32m   2171\u001b[0m     \u001b[1;32mdef\u001b[0m \u001b[0m__getattr__\u001b[0m\u001b[1;33m(\u001b[0m\u001b[0mself\u001b[0m\u001b[1;33m,\u001b[0m \u001b[0mkey\u001b[0m\u001b[1;33m)\u001b[0m\u001b[1;33m:\u001b[0m\u001b[1;33m\u001b[0m\u001b[1;33m\u001b[0m\u001b[0m\n\u001b[0;32m   2172\u001b[0m         \u001b[1;34m\"\"\"Raise a helpful exception to explain a common code fix.\"\"\"\u001b[0m\u001b[1;33m\u001b[0m\u001b[1;33m\u001b[0m\u001b[0m\n\u001b[1;32m-> 2173\u001b[1;33m         raise AttributeError(\n\u001b[0m\u001b[0;32m   2174\u001b[0m             \u001b[1;34m\"ResultSet object has no attribute '%s'. You're probably treating a list of elements like a single element. Did you call find_all() when you meant to call find()?\"\u001b[0m \u001b[1;33m%\u001b[0m \u001b[0mkey\u001b[0m\u001b[1;33m\u001b[0m\u001b[1;33m\u001b[0m\u001b[0m\n\u001b[0;32m   2175\u001b[0m         )\n",
      "\u001b[1;31mAttributeError\u001b[0m: ResultSet object has no attribute 'find_all'. You're probably treating a list of elements like a single element. Did you call find_all() when you meant to call find()?"
     ]
    }
   ],
   "source": [
    "#doesnt work\n",
    "\n",
    "x = soup.find_all(\"div\", class_=\"fc-item__container\")\n",
    "\n",
    "y=x.find_all(\"a\", href=True)['href']\n",
    "len(y)"
   ]
  },
  {
   "cell_type": "code",
   "execution_count": 50,
   "id": "e84501b1",
   "metadata": {},
   "outputs": [
    {
     "name": "stdout",
     "output_type": "stream",
     "text": [
      "https://www.theguardian.com/international \n",
      "\n",
      "https://www.theguardian.com/uk/commentisfree \n",
      "\n",
      "https://www.theguardian.com/uk/sport \n",
      "\n",
      "https://www.theguardian.com/uk/culture \n",
      "\n",
      "https://www.theguardian.com/uk/lifeandstyle \n",
      "\n"
     ]
    }
   ],
   "source": [
    "#works well, returns all the links in the list\n",
    "def cus_data1(soup):\n",
    "    # find the Html tag\n",
    "    # with find()\n",
    "    # and convert into string\n",
    "    data_str = \"\"\n",
    "    cus_list = []\n",
    "  \n",
    "    item1=soup.find(\"ul\", class_=\"pillars\")      \n",
    "    for link in item1.find_all(\"a\", href=True):\n",
    "        cus_list.append(link['href'])\n",
    "#         data_str = data_str + str(item1.find_all(\"a\", href=True)) \n",
    "#         cus_list.append(data_str)\n",
    "#         data_str = \"\"\n",
    "    return cus_list\n",
    "    \n",
    "#     for link in soup.find(\"a\", href=True):\n",
    "#         print(link['href'])\n",
    "\n",
    " \n",
    "cus_res1 = cus_data1(soup)\n",
    "for i in cus_res1:\n",
    "    print(i,\"\\n\")\n",
    "#print(cus_res1)"
   ]
  },
  {
   "cell_type": "code",
   "execution_count": null,
   "id": "e972bf3d",
   "metadata": {},
   "outputs": [],
   "source": []
  }
 ],
 "metadata": {
  "kernelspec": {
   "display_name": "Python 3",
   "language": "python",
   "name": "python3"
  },
  "language_info": {
   "codemirror_mode": {
    "name": "ipython",
    "version": 3
   },
   "file_extension": ".py",
   "mimetype": "text/x-python",
   "name": "python",
   "nbconvert_exporter": "python",
   "pygments_lexer": "ipython3",
   "version": "3.8.8"
  }
 },
 "nbformat": 4,
 "nbformat_minor": 5
}
