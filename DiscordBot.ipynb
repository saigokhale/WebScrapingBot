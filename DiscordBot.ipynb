{
 "cells": [
  {
   "cell_type": "code",
   "execution_count": 1,
   "id": "02d39636",
   "metadata": {},
   "outputs": [],
   "source": [
    "TOKEN = \"XYZ.ABC.DEF\""
   ]
  },
  {
   "cell_type": "code",
   "execution_count": 2,
   "id": "b0cb1dbf",
   "metadata": {},
   "outputs": [],
   "source": [
    "#pip install discord\n",
    "import nest_asyncio\n",
    "nest_asyncio.apply()"
   ]
  },
  {
   "cell_type": "code",
   "execution_count": null,
   "id": "120448c8",
   "metadata": {},
   "outputs": [],
   "source": [
    "import discord\n",
    "\n",
    "class MyClient(discord.Client):\n",
    "    status_flag=\"\"\n",
    "    \n",
    "    async def on_ready(self):\n",
    "        print('We have logged in as {0.user}'.format(client))\n",
    "\n",
    "    #everthing that the user enters in chat is inputted as variable 'message'\n",
    "    async def on_message(self,message):\n",
    "        #to make sure that the bot does not respond to itself\n",
    "        if message.author == client.user:\n",
    "            return\n",
    "        \n",
    "        thread_list=[]\n",
    "        thread=message.channel.history(limit=10)\n",
    "        async for threads in thread:\n",
    "            if (threads.author!=client.user):\n",
    "                thread_list.append(threads.content)\n",
    "        \n",
    "        status_flag=thread_list.pop(1)\n",
    "        print(status_flag)            #debugging\n",
    "        \n",
    "        if(message.content!=\"news\" and status_flag!=\"news\"):\n",
    "            await message.channel.send('''\n",
    "            Menu\n",
    "            1.News\n",
    "            2.Recipes\n",
    "            ''')\n",
    "\n",
    "        if(message.content==\"news\"):\n",
    "            await message.channel.send('1.business 2.sports')\n",
    "\n",
    "        if(status_flag==\"news\"):\n",
    "            if(message.content==\"business\"):\n",
    "                await message.channel.send('Entered News-->Business')\n",
    "                #call business news scraping method\n",
    "        \n",
    "        if(message.content==\"recipes\"):\n",
    "\n",
    "        if message.content.startswith('$hello'):\n",
    "            await message.channel.send('Hello!')\n",
    "            return \n",
    "'''\n",
    "\n",
    "1.\n",
    "    a.Business\n",
    "    b.\n",
    "    c.\n",
    "2.\n",
    "3.\n",
    "\n",
    "'''\n",
    "    \n",
    "client = MyClient()\n",
    "client.run(TOKEN)"
   ]
  },
  {
   "cell_type": "code",
   "execution_count": null,
   "id": "8a7adc12",
   "metadata": {},
   "outputs": [],
   "source": []
  }
 ],
 "metadata": {
  "kernelspec": {
   "display_name": "Python 3",
   "language": "python",
   "name": "python3"
  },
  "language_info": {
   "codemirror_mode": {
    "name": "ipython",
    "version": 3
   },
   "file_extension": ".py",
   "mimetype": "text/x-python",
   "name": "python",
   "nbconvert_exporter": "python",
   "pygments_lexer": "ipython3",
   "version": "3.8.8"
  }
 },
 "nbformat": 4,
 "nbformat_minor": 5
}
